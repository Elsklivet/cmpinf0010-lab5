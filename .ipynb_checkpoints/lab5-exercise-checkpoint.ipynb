{
 "cells": [
  {
   "cell_type": "code",
   "execution_count": 69,
   "metadata": {},
   "outputs": [
    {
     "name": "stdin",
     "output_type": "stream",
     "text": [
      "Input a name:  GAVIN\n",
      "Input an age:  1200\n"
     ]
    },
    {
     "name": "stdout",
     "output_type": "stream",
     "text": [
      "5273920\n"
     ]
    }
   ],
   "source": [
    "\"\"\"\n",
    "Skills Lab 5\n",
    "Gavin Heinrichs\n",
    "Shannon Gorny\n",
    "Carly Ukalovic\n",
    "\"\"\"\n",
    "# Used to get hash out of name\n",
    "import hashlib\n",
    "\n",
    "name = input(\"Input a name: \")\n",
    "age = input(\"Input an age: \")\n",
    "\n",
    "try:\n",
    "    age = int(age)\n",
    "except ValueError:\n",
    "    # I don't *want* to crash if you give me bad input,\n",
    "    # so if you enter a number that can't be parsed, you're 20 now.\n",
    "    age = 0x14 \n",
    "# We will assign a student ID by doing some\n",
    "# math on your name and age. This ID \n",
    "# WILL ALWAYS BE THE SAME FOR THE SAME INPUT\n",
    "# meaning we could use this to check what a student's\n",
    "# ID should be given their name and the age they enrolled.\n",
    "\n",
    "_hash = hashlib.sha1(name.lower().encode()).hexdigest()\n",
    "# Hash is currently a string type. Make it an integer.\n",
    "# To do this, slice the string 16 chars back from the end, to grab\n",
    "# only 8 bytes (word size).\n",
    "_hash = int(_hash[-16:], 16)\n",
    "# Now we're going to do the Something:tm: with the other input\n",
    "# That something is some crazy awful math just to get a funny\n",
    "# number from age.\n",
    "# Hash the age using Knuth's hashing algorithm (we're not open addressing so this is fine)\n",
    "# Then extract only matching bits between the hashed age and the name.\n",
    "age = (age*2654435761) % (2**32)\n",
    "ID = (_hash & age)\n",
    "# Now we have some huge number but we want a 7-digit number.\n",
    "# The maximum number of bits we can have o guarantee\n",
    "# a number with 7 digits or less is 23, so let's bitmask\n",
    "# out 23:\n",
    "ID = ID & 0b11111111111111111111111\n",
    "# And now we have a roughly 6 or 7 digit PS ID that was generated\n",
    "# by using the person's name and age.\n",
    "# Last step is to guarantee it is seven digits by\n",
    "# adding a 0 if it's only 6 (we shouldn't get less).\n",
    "ID = ID * 10 if ID < 1000000 else ID\n",
    "print(ID)"
   ]
  },
  {
   "cell_type": "code",
   "execution_count": null,
   "metadata": {},
   "outputs": [],
   "source": []
  }
 ],
 "metadata": {
  "kernelspec": {
   "display_name": "Python 3",
   "language": "python",
   "name": "python3"
  },
  "language_info": {
   "codemirror_mode": {
    "name": "ipython",
    "version": 3
   },
   "file_extension": ".py",
   "mimetype": "text/x-python",
   "name": "python",
   "nbconvert_exporter": "python",
   "pygments_lexer": "ipython3",
   "version": "3.8.3"
  }
 },
 "nbformat": 4,
 "nbformat_minor": 4
}
